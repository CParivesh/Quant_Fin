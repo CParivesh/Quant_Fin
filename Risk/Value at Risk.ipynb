{
 "cells": [
  {
   "cell_type": "code",
   "execution_count": 1,
   "id": "5b8c3c00-b967-4199-b081-34846de323a2",
   "metadata": {},
   "outputs": [
    {
     "name": "stdout",
     "output_type": "stream",
     "text": [
      "Collecting arch\n",
      "  Downloading arch-6.3.0-cp311-cp311-macosx_11_0_arm64.whl.metadata (13 kB)\n",
      "Requirement already satisfied: numpy>=1.19 in /Users/dsdcba1/anaconda3/lib/python3.11/site-packages (from arch) (1.24.3)\n",
      "Requirement already satisfied: scipy>=1.5 in /Users/dsdcba1/anaconda3/lib/python3.11/site-packages (from arch) (1.11.4)\n",
      "Requirement already satisfied: pandas>=1.1 in /Users/dsdcba1/anaconda3/lib/python3.11/site-packages (from arch) (2.1.4)\n",
      "Requirement already satisfied: statsmodels>=0.12 in /Users/dsdcba1/anaconda3/lib/python3.11/site-packages (from arch) (0.14.0)\n",
      "Requirement already satisfied: python-dateutil>=2.8.2 in /Users/dsdcba1/anaconda3/lib/python3.11/site-packages (from pandas>=1.1->arch) (2.8.2)\n",
      "Requirement already satisfied: pytz>=2020.1 in /Users/dsdcba1/anaconda3/lib/python3.11/site-packages (from pandas>=1.1->arch) (2023.3.post1)\n",
      "Requirement already satisfied: tzdata>=2022.1 in /Users/dsdcba1/anaconda3/lib/python3.11/site-packages (from pandas>=1.1->arch) (2023.3)\n",
      "Requirement already satisfied: patsy>=0.5.2 in /Users/dsdcba1/anaconda3/lib/python3.11/site-packages (from statsmodels>=0.12->arch) (0.5.3)\n",
      "Requirement already satisfied: packaging>=21.3 in /Users/dsdcba1/anaconda3/lib/python3.11/site-packages (from statsmodels>=0.12->arch) (23.1)\n",
      "Requirement already satisfied: six in /Users/dsdcba1/anaconda3/lib/python3.11/site-packages (from patsy>=0.5.2->statsmodels>=0.12->arch) (1.16.0)\n",
      "Downloading arch-6.3.0-cp311-cp311-macosx_11_0_arm64.whl (929 kB)\n",
      "\u001b[2K   \u001b[90m━━━━━━━━━━━━━━━━━━━━━━━━━━━━━━━━━━━━━━━━\u001b[0m \u001b[32m929.0/929.0 kB\u001b[0m \u001b[31m3.8 MB/s\u001b[0m eta \u001b[36m0:00:00\u001b[0ma \u001b[36m0:00:01\u001b[0m\n",
      "\u001b[?25hInstalling collected packages: arch\n",
      "Successfully installed arch-6.3.0\n",
      "Note: you may need to restart the kernel to use updated packages.\n"
     ]
    }
   ],
   "source": [
    "pip install arch"
   ]
  },
  {
   "cell_type": "code",
   "execution_count": 3,
   "id": "ba958cec-16f8-4f3a-b3f9-d3f466f4eb4d",
   "metadata": {},
   "outputs": [],
   "source": [
    " #example of ARCH model \n",
    "import numpy as np \n",
    "from random import gauss \n",
    "from random import seed \n",
    "from matplotlib import pyplot \n",
    "from arch import arch_model \n",
    "import pandas as pd \n",
    "from scipy.stats import binom"
   ]
  },
  {
   "cell_type": "code",
   "execution_count": 4,
   "id": "b1380bdf-60e2-41e6-8257-204e22b1cc44",
   "metadata": {},
   "outputs": [],
   "source": [
    "data = pd.read_csv(\"/Users/dsdcba1/Downloads/dollar-yen-exchange-rate-historical-chart.csv\", header = 8)"
   ]
  },
  {
   "cell_type": "code",
   "execution_count": 6,
   "id": "78413ef0-f3be-4326-ac39-50e5aad94847",
   "metadata": {},
   "outputs": [
    {
     "data": {
      "text/html": [
       "<div>\n",
       "<style scoped>\n",
       "    .dataframe tbody tr th:only-of-type {\n",
       "        vertical-align: middle;\n",
       "    }\n",
       "\n",
       "    .dataframe tbody tr th {\n",
       "        vertical-align: top;\n",
       "    }\n",
       "\n",
       "    .dataframe thead th {\n",
       "        text-align: right;\n",
       "    }\n",
       "</style>\n",
       "<table border=\"1\" class=\"dataframe\">\n",
       "  <thead>\n",
       "    <tr style=\"text-align: right;\">\n",
       "      <th></th>\n",
       "      <th>date</th>\n",
       "      <th>value</th>\n",
       "    </tr>\n",
       "  </thead>\n",
       "  <tbody>\n",
       "    <tr>\n",
       "      <th>0</th>\n",
       "      <td>1971-01-04</td>\n",
       "      <td>357.73</td>\n",
       "    </tr>\n",
       "    <tr>\n",
       "      <th>1</th>\n",
       "      <td>1971-01-05</td>\n",
       "      <td>357.81</td>\n",
       "    </tr>\n",
       "    <tr>\n",
       "      <th>2</th>\n",
       "      <td>1971-01-06</td>\n",
       "      <td>357.86</td>\n",
       "    </tr>\n",
       "    <tr>\n",
       "      <th>3</th>\n",
       "      <td>1971-01-07</td>\n",
       "      <td>357.87</td>\n",
       "    </tr>\n",
       "    <tr>\n",
       "      <th>4</th>\n",
       "      <td>1971-01-08</td>\n",
       "      <td>357.82</td>\n",
       "    </tr>\n",
       "  </tbody>\n",
       "</table>\n",
       "</div>"
      ],
      "text/plain": [
       "         date   value\n",
       "0  1971-01-04  357.73\n",
       "1  1971-01-05  357.81\n",
       "2  1971-01-06  357.86\n",
       "3  1971-01-07  357.87\n",
       "4  1971-01-08  357.82"
      ]
     },
     "execution_count": 6,
     "metadata": {},
     "output_type": "execute_result"
    }
   ],
   "source": [
    "data.head()"
   ]
  },
  {
   "cell_type": "code",
   "execution_count": 8,
   "id": "a79a46c4-89e1-435b-99cb-5061deced455",
   "metadata": {},
   "outputs": [
    {
     "data": {
      "text/html": [
       "<div>\n",
       "<style scoped>\n",
       "    .dataframe tbody tr th:only-of-type {\n",
       "        vertical-align: middle;\n",
       "    }\n",
       "\n",
       "    .dataframe tbody tr th {\n",
       "        vertical-align: top;\n",
       "    }\n",
       "\n",
       "    .dataframe thead th {\n",
       "        text-align: right;\n",
       "    }\n",
       "</style>\n",
       "<table border=\"1\" class=\"dataframe\">\n",
       "  <thead>\n",
       "    <tr style=\"text-align: right;\">\n",
       "      <th></th>\n",
       "      <th>date</th>\n",
       "      <th>value</th>\n",
       "    </tr>\n",
       "  </thead>\n",
       "  <tbody>\n",
       "    <tr>\n",
       "      <th>13653</th>\n",
       "      <td>2023-11-15</td>\n",
       "      <td>151.2765</td>\n",
       "    </tr>\n",
       "    <tr>\n",
       "      <th>13654</th>\n",
       "      <td>2023-11-16</td>\n",
       "      <td>150.7175</td>\n",
       "    </tr>\n",
       "    <tr>\n",
       "      <th>13655</th>\n",
       "      <td>2023-11-17</td>\n",
       "      <td>149.5350</td>\n",
       "    </tr>\n",
       "    <tr>\n",
       "      <th>13656</th>\n",
       "      <td>2023-11-18</td>\n",
       "      <td>149.5350</td>\n",
       "    </tr>\n",
       "    <tr>\n",
       "      <th>13657</th>\n",
       "      <td>2023-11-20</td>\n",
       "      <td>148.3450</td>\n",
       "    </tr>\n",
       "  </tbody>\n",
       "</table>\n",
       "</div>"
      ],
      "text/plain": [
       "             date     value\n",
       "13653  2023-11-15  151.2765\n",
       "13654  2023-11-16  150.7175\n",
       "13655  2023-11-17  149.5350\n",
       "13656  2023-11-18  149.5350\n",
       "13657  2023-11-20  148.3450"
      ]
     },
     "execution_count": 8,
     "metadata": {},
     "output_type": "execute_result"
    }
   ],
   "source": [
    "data.tail()"
   ]
  },
  {
   "cell_type": "code",
   "execution_count": 9,
   "id": "8e36ca37-227b-4061-8831-fe5e741e2490",
   "metadata": {},
   "outputs": [],
   "source": [
    "#Preprocessing\n",
    "\n",
    "df=data[(data['date'] >= '2009-10-31') & (data['date'] <= '2023-11-20')] "
   ]
  },
  {
   "cell_type": "code",
   "execution_count": 13,
   "id": "3f25170f-ef3c-44fb-b307-8d76c8eea795",
   "metadata": {},
   "outputs": [
    {
     "name": "stderr",
     "output_type": "stream",
     "text": [
      "/var/folders/3s/jzblmwmd6bb1z6zxqjy91l8w0000gn/T/ipykernel_4438/2160877115.py:1: SettingWithCopyWarning: \n",
      "A value is trying to be set on a copy of a slice from a DataFrame\n",
      "\n",
      "See the caveats in the documentation: https://pandas.pydata.org/pandas-docs/stable/user_guide/indexing.html#returning-a-view-versus-a-copy\n",
      "  df.rename(columns={'value':'value'}, inplace=True)\n",
      "/var/folders/3s/jzblmwmd6bb1z6zxqjy91l8w0000gn/T/ipykernel_4438/2160877115.py:2: SettingWithCopyWarning: \n",
      "A value is trying to be set on a copy of a slice from a DataFrame.\n",
      "Try using .loc[row_indexer,col_indexer] = value instead\n",
      "\n",
      "See the caveats in the documentation: https://pandas.pydata.org/pandas-docs/stable/user_guide/indexing.html#returning-a-view-versus-a-copy\n",
      "  df['return']=df.value.pct_change()\n"
     ]
    }
   ],
   "source": [
    "df.rename(columns={'value':'value'}, inplace=True)\n",
    "df['return']=df.value.pct_change()\n",
    "return_list=df['return'].tolist()[1:]"
   ]
  },
  {
   "cell_type": "code",
   "execution_count": 17,
   "id": "1fe0925e-75a3-49fe-bf97-68596e691382",
   "metadata": {},
   "outputs": [
    {
     "name": "stdout",
     "output_type": "stream",
     "text": [
      "Iteration:      1,   Func. Count:      4,   Neg. LLF: -15117.361724297236\n",
      "Inequality constraints incompatible    (Exit mode 4)\n",
      "            Current function value: -15117.36173712577\n",
      "            Iterations: 1\n",
      "            Function evaluations: 4\n",
      "            Gradient evaluations: 1\n",
      "                       Zero Mean - GARCH Model Results                        \n",
      "==============================================================================\n",
      "Dep. Variable:                      y   R-squared:                       0.000\n",
      "Mean Model:                 Zero Mean   Adj. R-squared:                  0.000\n",
      "Vol Model:                      GARCH   Log-Likelihood:                15117.4\n",
      "Distribution:                  Normal   AIC:                          -30228.7\n",
      "Method:            Maximum Likelihood   BIC:                          -30209.9\n",
      "                                        No. Observations:                 3914\n",
      "Date:                Wed, Feb 14 2024   Df Residuals:                     3914\n",
      "Time:                        22:20:35   Df Model:                            0\n",
      "                              Volatility Model                              \n",
      "============================================================================\n",
      "                 coef    std err          t      P>|t|      95.0% Conf. Int.\n",
      "----------------------------------------------------------------------------\n",
      "omega      6.1143e-07  2.910e-11  2.101e+04      0.000 [6.114e-07,6.115e-07]\n",
      "alpha[1]       0.0500  5.848e-03      8.549  1.237e-17 [3.854e-02,6.146e-02]\n",
      "beta[1]        0.9300  4.933e-03    188.531      0.000     [  0.920,  0.940]\n",
      "============================================================================\n",
      "\n",
      "Covariance estimator: robust\n",
      "WARNING: The optimizer did not indicate successful convergence. The message was Inequality constraints incompatible.\n",
      "See convergence_flag.\n",
      "\n"
     ]
    },
    {
     "name": "stderr",
     "output_type": "stream",
     "text": [
      "/Users/dsdcba1/anaconda3/lib/python3.11/site-packages/arch/univariate/base.py:311: DataScaleWarning: y is poorly scaled, which may affect convergence of the optimizer when\n",
      "estimating the model parameters. The scale of y is 3.055e-05. Parameter\n",
      "estimation work better when this value is between 1 and 1000. The recommended\n",
      "rescaling is 100 * y.\n",
      "\n",
      "This warning can be disabled by either rescaling y before initializing the\n",
      "model or by setting rescale=False.\n",
      "\n",
      "  warnings.warn(\n",
      "/Users/dsdcba1/anaconda3/lib/python3.11/site-packages/arch/univariate/base.py:766: ConvergenceWarning: The optimizer returned code 4. The message is:\n",
      "Inequality constraints incompatible\n",
      "See scipy.optimize.fmin_slsqp for code meaning.\n",
      "\n",
      "  warnings.warn(\n"
     ]
    }
   ],
   "source": [
    "# Using GARCH(1,1) to determine the volatility \n",
    "model=arch_model(return_list, mean='Zero', vol='GARCH', p=1, q=1) \n",
    "model_fit = model.fit() \n",
    "volatility = model_fit.conditional_volatility\n",
    "print(model_fit.summary())"
   ]
  },
  {
   "cell_type": "code",
   "execution_count": 18,
   "id": "5882b175-9c16-4333-b56c-a16f69fd9e7d",
   "metadata": {},
   "outputs": [
    {
     "name": "stdout",
     "output_type": "stream",
     "text": [
      "The volatility in the next date= 0.0050511420949833795\n"
     ]
    }
   ],
   "source": [
    "# Estimate the volatility in the next date\n",
    "omega = model_fit.params['omega']\n",
    "alpha = model_fit.params['alpha[1]'] \n",
    "beta = model_fit.params['beta[1]'] \n",
    "vola_estimate = omega + alpha * np.power(return_list[-1] , 2) + beta * np.power( volatility[-1] , 2 ) \n",
    "vola_estimate = np.sqrt(vola_estimate) \n",
    "print('The volatility in the next date=', vola_estimate ) \n",
    "#return_scienarios = [] #for i in range(0,return_list)"
   ]
  },
  {
   "cell_type": "code",
   "execution_count": 19,
   "id": "609e3959-b521-4f3e-9918-be8d9a59dad8",
   "metadata": {},
   "outputs": [],
   "source": [
    "#Value at Risk Calculation: historical simulation with volatility updating"
   ]
  },
  {
   "cell_type": "code",
   "execution_count": 20,
   "id": "78ee19a0-0f6a-4bcd-884c-b64f7b279afd",
   "metadata": {},
   "outputs": [],
   "source": [
    "# calculate the predicted value in the next date under different scenario and inporporate volatility updating "
   ]
  },
  {
   "cell_type": "code",
   "execution_count": 26,
   "id": "e241c1fc-05e6-47b1-a17e-c3f986242b65",
   "metadata": {},
   "outputs": [],
   "source": [
    "Market_scienarios = []\n",
    "N_history = len(return_list)\n",
    "Value_current = df.loc[df.index[-1], 'value'] \n",
    "df.loc[df.index[-1], 'value']\n",
    "for i in range(0, N_history ): \n",
    "    Market_value = Value_current * ( 1 + return_list[i] * vola_estimate/volatility[i] ) \n",
    "    Market_scienarios.append(Market_value)\n",
    "\n"
   ]
  },
  {
   "cell_type": "code",
   "execution_count": 27,
   "id": "1f2632fb-8f62-4f3a-95ba-c2b70a1ca56b",
   "metadata": {},
   "outputs": [
    {
     "name": "stdout",
     "output_type": "stream",
     "text": [
      "The 1 day 95 % VaR: 1.1522058803844288\n"
     ]
    }
   ],
   "source": [
    "# Value at Risk (VaR) determination # CL_Var: condifence level for VaR\n",
    "CL_VaR = 95 \n",
    "Value_current = df.loc[df.index[-1], 'value']\n",
    "Value_at_Risk = np.percentile(Market_scienarios,100-CL_VaR) - Value_current \n",
    "print(\"The 1 day\", CL_VaR,\"% VaR:\", -Value_at_Risk)"
   ]
  },
  {
   "cell_type": "code",
   "execution_count": 31,
   "id": "027c8925-d377-444f-8c52-246191dd4431",
   "metadata": {},
   "outputs": [],
   "source": [
    "# Make the histogram of loss for the scenaros considered between current date and the next date\n",
    "import matplotlib.pyplot as plt"
   ]
  },
  {
   "cell_type": "code",
   "execution_count": 37,
   "id": "53e4b7c4-48ec-40e8-8f9b-15129e9cb525",
   "metadata": {},
   "outputs": [
    {
     "data": {
      "image/png": "[encoded data removed]",
      "text/plain": [
       "<Figure size 640x480 with 1 Axes>"
      ]
     },
     "metadata": {},
     "output_type": "display_data"
    }
   ],
   "source": [
    "mss = np.asarray(Value_current - Market_scienarios )\n",
    "plt.xlim([min(mss), max(mss)]) \n",
    "plt.hist(mss, bins='auto', alpha=0.5)\n",
    "plt.title('Plot of loss for the scenaros')\n",
    "plt.xlabel('Loss') \n",
    "plt.ylabel('Frequency') \n",
    "plt.axvline( -Value_at_Risk , color='k', linestyle='dashed', linewidth=1) \n",
    "min_ylim, max_ylim = plt.ylim()\n",
    "plt.text(-Value_at_Risk*1.1, max_ylim*0.9, '{}% VaR: {:.2f}'.format(CL_VaR ,-Value_at_Risk)) \n",
    "plt.show()"
   ]
  },
  {
   "cell_type": "code",
   "execution_count": 38,
   "id": "73bd9b11-0a6a-42ed-8096-d0f1484d2326",
   "metadata": {},
   "outputs": [],
   "source": [
    "# Confidence level for backtesting\n",
    "# The probability of the VaR beeing exceeded on given day "
   ]
  },
  {
   "cell_type": "code",
   "execution_count": 42,
   "id": "aa247d91-a4b7-414c-919f-5e69ee966ee6",
   "metadata": {},
   "outputs": [],
   "source": [
    "CL_backtesting = 95\n",
    "p = 1 - CL_VaR/100\n",
    "N_confidence = binom.ppf( CL_backtesting*0.01, N_history, p)\n",
    "N_exceeded = sum( v < Value_at_Risk + Value_current for v in Market_scienarios)"
   ]
  },
  {
   "cell_type": "code",
   "execution_count": 44,
   "id": "d7d984c0-a949-4cc2-92e7-28a37e26e311",
   "metadata": {},
   "outputs": [
    {
     "name": "stdout",
     "output_type": "stream",
     "text": [
      "We look at total 3914 days. VaR level is reached at 196 days.\n",
      "This VaR model is accepted at 95 % confidence level.\n"
     ]
    }
   ],
   "source": [
    "print(\"We look at total\", N_history,\"days. VaR level is reached at\", N_exceeded , \"days.\")\n",
    "if N_exceeded <= N_confidence:\n",
    "    print (\"This VaR model is accepted at\", CL_backtesting,\"% confidence level.\")\n",
    "else: print (\"This VaR model is rejected at\", CL_backtesting,\"% confidence level.\")\n",
    "    "
   ]
  }
 ],
 "metadata": {
  "kernelspec": {
   "display_name": "Python 3 (ipykernel)",
   "language": "python",
   "name": "python3"
  },
  "language_info": {
   "codemirror_mode": {
    "name": "ipython",
    "version": 3
   },
   "file_extension": ".py",
   "mimetype": "text/x-python",
   "name": "python",
   "nbconvert_exporter": "python",
   "pygments_lexer": "ipython3",
   "version": "3.11.7"
  }
 },
 "nbformat": 4,
 "nbformat_minor": 5
}
