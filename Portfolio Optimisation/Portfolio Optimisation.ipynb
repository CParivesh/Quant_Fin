{
 "cells": [
  {
   "cell_type": "code",
   "execution_count": 11,
   "id": "e989d2ed-2623-4a16-b40a-04c8849a4f65",
   "metadata": {
    "tags": []
   },
   "outputs": [],
   "source": [
    "from pandas_datareader import data as web\n",
    "import pandas as pd\n",
    "import numpy as np\n",
    "from datetime import datetime\n",
    "import yfinance as yf\n",
    "import matplotlib.pyplot as plt\n",
    "plt.style.use('fivethirtyeight')"
   ]
  },
  {
   "cell_type": "code",
   "execution_count": 12,
   "id": "7e38c3a5-9279-4530-a4a9-b6adfe266a59",
   "metadata": {
    "tags": []
   },
   "outputs": [],
   "source": [
    "#Get stock symbols- FAANG\n",
    "\n",
    "assets=['META','AMZN','AAPL','NFLX','GOOG']\n"
   ]
  },
  {
   "cell_type": "code",
   "execution_count": 13,
   "id": "7be82c25-043b-4da3-939f-a354090c8bb5",
   "metadata": {
    "tags": []
   },
   "outputs": [],
   "source": [
    "#ASSIGN WEIGHTS TO OUR STOCKS. Same weights to all\n",
    "\n",
    "weights=np.array([0.2,0.2,0.2,0.2,0.2])"
   ]
  },
  {
   "cell_type": "code",
   "execution_count": 14,
   "id": "8f1c7162-f9c2-483c-87e2-fe332ee1566d",
   "metadata": {
    "tags": []
   },
   "outputs": [],
   "source": [
    "#Get the stocks/portfolio start date and end date(today)\n",
    "stockstartdate='2020-01-01'\n",
    "today=datetime.today().strftime('%Y-%m-%d')\n"
   ]
  },
  {
   "cell_type": "code",
   "execution_count": 15,
   "id": "c63b61d6-58dc-4c4a-bfc4-0abfc49346c1",
   "metadata": {
    "tags": []
   },
   "outputs": [
    {
     "name": "stderr",
     "output_type": "stream",
     "text": [
      "[*********************100%%**********************]  1 of 1 completed\n",
      "[*********************100%%**********************]  1 of 1 completed\n",
      "[*********************100%%**********************]  1 of 1 completed\n",
      "[*********************100%%**********************]  1 of 1 completed\n",
      "[*********************100%%**********************]  1 of 1 completed\n"
     ]
    }
   ],
   "source": [
    "#create a data frame to store adjusted close price of stocks\n",
    "df= pd.DataFrame()\n",
    "#store the adjusted close price into df\n",
    "\n",
    "for stock in assets:\n",
    "    df[stock] = yf.download(stock, start=stockstartdate, end=today)['Adj Close']"
   ]
  },
  {
   "cell_type": "code",
   "execution_count": 16,
   "id": "a58fa8f8-48e6-4771-912d-25ab5ebc1a75",
   "metadata": {
    "tags": []
   },
   "outputs": [
    {
     "data": {
      "text/html": [
       "<div>\n",
       "<style scoped>\n",
       "    .dataframe tbody tr th:only-of-type {\n",
       "        vertical-align: middle;\n",
       "    }\n",
       "\n",
       "    .dataframe tbody tr th {\n",
       "        vertical-align: top;\n",
       "    }\n",
       "\n",
       "    .dataframe thead th {\n",
       "        text-align: right;\n",
       "    }\n",
       "</style>\n",
       "<table border=\"1\" class=\"dataframe\">\n",
       "  <thead>\n",
       "    <tr style=\"text-align: right;\">\n",
       "      <th></th>\n",
       "      <th>META</th>\n",
       "      <th>AMZN</th>\n",
       "      <th>AAPL</th>\n",
       "      <th>NFLX</th>\n",
       "      <th>GOOG</th>\n",
       "    </tr>\n",
       "    <tr>\n",
       "      <th>Date</th>\n",
       "      <th></th>\n",
       "      <th></th>\n",
       "      <th></th>\n",
       "      <th></th>\n",
       "      <th></th>\n",
       "    </tr>\n",
       "  </thead>\n",
       "  <tbody>\n",
       "    <tr>\n",
       "      <th>2020-01-02</th>\n",
       "      <td>209.779999</td>\n",
       "      <td>94.900497</td>\n",
       "      <td>73.059441</td>\n",
       "      <td>329.809998</td>\n",
       "      <td>68.368500</td>\n",
       "    </tr>\n",
       "    <tr>\n",
       "      <th>2020-01-03</th>\n",
       "      <td>208.669998</td>\n",
       "      <td>93.748497</td>\n",
       "      <td>72.349136</td>\n",
       "      <td>325.899994</td>\n",
       "      <td>68.032997</td>\n",
       "    </tr>\n",
       "    <tr>\n",
       "      <th>2020-01-06</th>\n",
       "      <td>212.600006</td>\n",
       "      <td>95.143997</td>\n",
       "      <td>72.925659</td>\n",
       "      <td>335.829987</td>\n",
       "      <td>69.710503</td>\n",
       "    </tr>\n",
       "    <tr>\n",
       "      <th>2020-01-07</th>\n",
       "      <td>213.059998</td>\n",
       "      <td>95.343002</td>\n",
       "      <td>72.582649</td>\n",
       "      <td>330.750000</td>\n",
       "      <td>69.667000</td>\n",
       "    </tr>\n",
       "    <tr>\n",
       "      <th>2020-01-08</th>\n",
       "      <td>215.220001</td>\n",
       "      <td>94.598503</td>\n",
       "      <td>73.750237</td>\n",
       "      <td>339.260010</td>\n",
       "      <td>70.216003</td>\n",
       "    </tr>\n",
       "    <tr>\n",
       "      <th>...</th>\n",
       "      <td>...</td>\n",
       "      <td>...</td>\n",
       "      <td>...</td>\n",
       "      <td>...</td>\n",
       "      <td>...</td>\n",
       "    </tr>\n",
       "    <tr>\n",
       "      <th>2024-02-07</th>\n",
       "      <td>469.589996</td>\n",
       "      <td>170.529999</td>\n",
       "      <td>189.168625</td>\n",
       "      <td>559.299988</td>\n",
       "      <td>146.679993</td>\n",
       "    </tr>\n",
       "    <tr>\n",
       "      <th>2024-02-08</th>\n",
       "      <td>470.000000</td>\n",
       "      <td>169.839996</td>\n",
       "      <td>188.080017</td>\n",
       "      <td>558.530029</td>\n",
       "      <td>147.220001</td>\n",
       "    </tr>\n",
       "    <tr>\n",
       "      <th>2024-02-09</th>\n",
       "      <td>468.109985</td>\n",
       "      <td>174.449997</td>\n",
       "      <td>188.850006</td>\n",
       "      <td>561.320007</td>\n",
       "      <td>150.220001</td>\n",
       "    </tr>\n",
       "    <tr>\n",
       "      <th>2024-02-12</th>\n",
       "      <td>468.899994</td>\n",
       "      <td>172.339996</td>\n",
       "      <td>187.149994</td>\n",
       "      <td>557.849976</td>\n",
       "      <td>148.729996</td>\n",
       "    </tr>\n",
       "    <tr>\n",
       "      <th>2024-02-13</th>\n",
       "      <td>460.119995</td>\n",
       "      <td>168.639999</td>\n",
       "      <td>185.039993</td>\n",
       "      <td>554.520020</td>\n",
       "      <td>146.369995</td>\n",
       "    </tr>\n",
       "  </tbody>\n",
       "</table>\n",
       "<p>1036 rows × 5 columns</p>\n",
       "</div>"
      ],
      "text/plain": [
       "                  META        AMZN        AAPL        NFLX        GOOG\n",
       "Date                                                                  \n",
       "2020-01-02  209.779999   94.900497   73.059441  329.809998   68.368500\n",
       "2020-01-03  208.669998   93.748497   72.349136  325.899994   68.032997\n",
       "2020-01-06  212.600006   95.143997   72.925659  335.829987   69.710503\n",
       "2020-01-07  213.059998   95.343002   72.582649  330.750000   69.667000\n",
       "2020-01-08  215.220001   94.598503   73.750237  339.260010   70.216003\n",
       "...                ...         ...         ...         ...         ...\n",
       "2024-02-07  469.589996  170.529999  189.168625  559.299988  146.679993\n",
       "2024-02-08  470.000000  169.839996  188.080017  558.530029  147.220001\n",
       "2024-02-09  468.109985  174.449997  188.850006  561.320007  150.220001\n",
       "2024-02-12  468.899994  172.339996  187.149994  557.849976  148.729996\n",
       "2024-02-13  460.119995  168.639999  185.039993  554.520020  146.369995\n",
       "\n",
       "[1036 rows x 5 columns]"
      ]
     },
     "execution_count": 16,
     "metadata": {},
     "output_type": "execute_result"
    }
   ],
   "source": [
    "df"
   ]
  },
  {
   "cell_type": "code",
   "execution_count": 17,
   "id": "51e6fc0c-21de-4632-8223-6d05e7aab515",
   "metadata": {
    "tags": []
   },
   "outputs": [
    {
     "data": {
      "image/png": "[encoded data removed]",
      "text/plain": [
       "<Figure size 640x480 with 1 Axes>"
      ]
     },
     "metadata": {},
     "output_type": "display_data"
    }
   ],
   "source": [
    "#Visually show the portfolio\n",
    "title='Portfolio Adj. Close Price History'\n",
    "\n",
    "#Get the stocks\n",
    "my_stocks=df\n",
    "\n",
    "#create and plot the graph\n",
    "for c in my_stocks.columns.values:\n",
    "    plt.plot(my_stocks[c],label=c)\n",
    "\n",
    "plt.title(title)\n",
    "plt.xlabel('Date',fontsize=12)\n",
    "plt.ylabel('Adj Price USD($)',fontsize=16)\n",
    "plt.legend(my_stocks.columns.values, loc='upper left')\n",
    "\n",
    "plt.show()"
   ]
  },
  {
   "cell_type": "code",
   "execution_count": 18,
   "id": "2533f3f3-a917-4966-b7f7-5d59fc901463",
   "metadata": {
    "tags": []
   },
   "outputs": [
    {
     "data": {
      "text/html": [
       "<div>\n",
       "<style scoped>\n",
       "    .dataframe tbody tr th:only-of-type {\n",
       "        vertical-align: middle;\n",
       "    }\n",
       "\n",
       "    .dataframe tbody tr th {\n",
       "        vertical-align: top;\n",
       "    }\n",
       "\n",
       "    .dataframe thead th {\n",
       "        text-align: right;\n",
       "    }\n",
       "</style>\n",
       "<table border=\"1\" class=\"dataframe\">\n",
       "  <thead>\n",
       "    <tr style=\"text-align: right;\">\n",
       "      <th></th>\n",
       "      <th>META</th>\n",
       "      <th>AMZN</th>\n",
       "      <th>AAPL</th>\n",
       "      <th>NFLX</th>\n",
       "      <th>GOOG</th>\n",
       "    </tr>\n",
       "    <tr>\n",
       "      <th>Date</th>\n",
       "      <th></th>\n",
       "      <th></th>\n",
       "      <th></th>\n",
       "      <th></th>\n",
       "      <th></th>\n",
       "    </tr>\n",
       "  </thead>\n",
       "  <tbody>\n",
       "    <tr>\n",
       "      <th>2020-01-02</th>\n",
       "      <td>NaN</td>\n",
       "      <td>NaN</td>\n",
       "      <td>NaN</td>\n",
       "      <td>NaN</td>\n",
       "      <td>NaN</td>\n",
       "    </tr>\n",
       "    <tr>\n",
       "      <th>2020-01-03</th>\n",
       "      <td>-0.005291</td>\n",
       "      <td>-0.012139</td>\n",
       "      <td>-0.009722</td>\n",
       "      <td>-0.011855</td>\n",
       "      <td>-0.004907</td>\n",
       "    </tr>\n",
       "    <tr>\n",
       "      <th>2020-01-06</th>\n",
       "      <td>0.018834</td>\n",
       "      <td>0.014886</td>\n",
       "      <td>0.007969</td>\n",
       "      <td>0.030469</td>\n",
       "      <td>0.024657</td>\n",
       "    </tr>\n",
       "    <tr>\n",
       "      <th>2020-01-07</th>\n",
       "      <td>0.002164</td>\n",
       "      <td>0.002092</td>\n",
       "      <td>-0.004704</td>\n",
       "      <td>-0.015127</td>\n",
       "      <td>-0.000624</td>\n",
       "    </tr>\n",
       "    <tr>\n",
       "      <th>2020-01-08</th>\n",
       "      <td>0.010138</td>\n",
       "      <td>-0.007809</td>\n",
       "      <td>0.016086</td>\n",
       "      <td>0.025729</td>\n",
       "      <td>0.007880</td>\n",
       "    </tr>\n",
       "    <tr>\n",
       "      <th>...</th>\n",
       "      <td>...</td>\n",
       "      <td>...</td>\n",
       "      <td>...</td>\n",
       "      <td>...</td>\n",
       "      <td>...</td>\n",
       "    </tr>\n",
       "    <tr>\n",
       "      <th>2024-02-07</th>\n",
       "      <td>0.032701</td>\n",
       "      <td>0.008158</td>\n",
       "      <td>0.000581</td>\n",
       "      <td>0.006152</td>\n",
       "      <td>0.008734</td>\n",
       "    </tr>\n",
       "    <tr>\n",
       "      <th>2024-02-08</th>\n",
       "      <td>0.000873</td>\n",
       "      <td>-0.004046</td>\n",
       "      <td>-0.005755</td>\n",
       "      <td>-0.001377</td>\n",
       "      <td>0.003682</td>\n",
       "    </tr>\n",
       "    <tr>\n",
       "      <th>2024-02-09</th>\n",
       "      <td>-0.004021</td>\n",
       "      <td>0.027143</td>\n",
       "      <td>0.004094</td>\n",
       "      <td>0.004995</td>\n",
       "      <td>0.020378</td>\n",
       "    </tr>\n",
       "    <tr>\n",
       "      <th>2024-02-12</th>\n",
       "      <td>0.001688</td>\n",
       "      <td>-0.012095</td>\n",
       "      <td>-0.009002</td>\n",
       "      <td>-0.006182</td>\n",
       "      <td>-0.009919</td>\n",
       "    </tr>\n",
       "    <tr>\n",
       "      <th>2024-02-13</th>\n",
       "      <td>-0.018725</td>\n",
       "      <td>-0.021469</td>\n",
       "      <td>-0.011274</td>\n",
       "      <td>-0.005969</td>\n",
       "      <td>-0.015868</td>\n",
       "    </tr>\n",
       "  </tbody>\n",
       "</table>\n",
       "<p>1036 rows × 5 columns</p>\n",
       "</div>"
      ],
      "text/plain": [
       "                META      AMZN      AAPL      NFLX      GOOG\n",
       "Date                                                        \n",
       "2020-01-02       NaN       NaN       NaN       NaN       NaN\n",
       "2020-01-03 -0.005291 -0.012139 -0.009722 -0.011855 -0.004907\n",
       "2020-01-06  0.018834  0.014886  0.007969  0.030469  0.024657\n",
       "2020-01-07  0.002164  0.002092 -0.004704 -0.015127 -0.000624\n",
       "2020-01-08  0.010138 -0.007809  0.016086  0.025729  0.007880\n",
       "...              ...       ...       ...       ...       ...\n",
       "2024-02-07  0.032701  0.008158  0.000581  0.006152  0.008734\n",
       "2024-02-08  0.000873 -0.004046 -0.005755 -0.001377  0.003682\n",
       "2024-02-09 -0.004021  0.027143  0.004094  0.004995  0.020378\n",
       "2024-02-12  0.001688 -0.012095 -0.009002 -0.006182 -0.009919\n",
       "2024-02-13 -0.018725 -0.021469 -0.011274 -0.005969 -0.015868\n",
       "\n",
       "[1036 rows x 5 columns]"
      ]
     },
     "execution_count": 18,
     "metadata": {},
     "output_type": "execute_result"
    }
   ],
   "source": [
    "#Show daily simple return\n",
    "returns=df.pct_change()\n",
    "returns"
   ]
  },
  {
   "cell_type": "code",
   "execution_count": 23,
   "id": "73dd1a76-74c4-48b8-a386-a713d8c8f869",
   "metadata": {
    "tags": []
   },
   "outputs": [
    {
     "data": {
      "text/html": [
       "<div>\n",
       "<style scoped>\n",
       "    .dataframe tbody tr th:only-of-type {\n",
       "        vertical-align: middle;\n",
       "    }\n",
       "\n",
       "    .dataframe tbody tr th {\n",
       "        vertical-align: top;\n",
       "    }\n",
       "\n",
       "    .dataframe thead th {\n",
       "        text-align: right;\n",
       "    }\n",
       "</style>\n",
       "<table border=\"1\" class=\"dataframe\">\n",
       "  <thead>\n",
       "    <tr style=\"text-align: right;\">\n",
       "      <th></th>\n",
       "      <th>META</th>\n",
       "      <th>AMZN</th>\n",
       "      <th>AAPL</th>\n",
       "      <th>NFLX</th>\n",
       "      <th>GOOG</th>\n",
       "    </tr>\n",
       "  </thead>\n",
       "  <tbody>\n",
       "    <tr>\n",
       "      <th>META</th>\n",
       "      <td>0.224320</td>\n",
       "      <td>0.109763</td>\n",
       "      <td>0.092983</td>\n",
       "      <td>0.114238</td>\n",
       "      <td>0.105164</td>\n",
       "    </tr>\n",
       "    <tr>\n",
       "      <th>AMZN</th>\n",
       "      <td>0.109763</td>\n",
       "      <td>0.140881</td>\n",
       "      <td>0.077423</td>\n",
       "      <td>0.099533</td>\n",
       "      <td>0.083363</td>\n",
       "    </tr>\n",
       "    <tr>\n",
       "      <th>AAPL</th>\n",
       "      <td>0.092983</td>\n",
       "      <td>0.077423</td>\n",
       "      <td>0.110737</td>\n",
       "      <td>0.075979</td>\n",
       "      <td>0.076159</td>\n",
       "    </tr>\n",
       "    <tr>\n",
       "      <th>NFLX</th>\n",
       "      <td>0.114238</td>\n",
       "      <td>0.099533</td>\n",
       "      <td>0.075979</td>\n",
       "      <td>0.234341</td>\n",
       "      <td>0.075135</td>\n",
       "    </tr>\n",
       "    <tr>\n",
       "      <th>GOOG</th>\n",
       "      <td>0.105164</td>\n",
       "      <td>0.083363</td>\n",
       "      <td>0.076159</td>\n",
       "      <td>0.075135</td>\n",
       "      <td>0.110970</td>\n",
       "    </tr>\n",
       "  </tbody>\n",
       "</table>\n",
       "</div>"
      ],
      "text/plain": [
       "          META      AMZN      AAPL      NFLX      GOOG\n",
       "META  0.224320  0.109763  0.092983  0.114238  0.105164\n",
       "AMZN  0.109763  0.140881  0.077423  0.099533  0.083363\n",
       "AAPL  0.092983  0.077423  0.110737  0.075979  0.076159\n",
       "NFLX  0.114238  0.099533  0.075979  0.234341  0.075135\n",
       "GOOG  0.105164  0.083363  0.076159  0.075135  0.110970"
      ]
     },
     "execution_count": 23,
     "metadata": {},
     "output_type": "execute_result"
    }
   ],
   "source": [
    "#Show the annualised covariance matrix\n",
    "cov_matrix_annual=returns.cov()*252\n",
    "\n",
    "\n",
    "exp_ret=returns.mean()*252\n",
    "cov_matrix_annual"
   ]
  },
  {
   "cell_type": "code",
   "execution_count": 24,
   "id": "cb8e04d0-0a2e-4276-82a9-953eb41b9539",
   "metadata": {},
   "outputs": [
    {
     "data": {
      "text/plain": [
       "META    0.304877\n",
       "AMZN    0.210327\n",
       "AAPL    0.281645\n",
       "NFLX    0.248221\n",
       "GOOG    0.240963\n",
       "dtype: float64"
      ]
     },
     "execution_count": 24,
     "metadata": {},
     "output_type": "execute_result"
    }
   ],
   "source": [
    "exp_ret"
   ]
  },
  {
   "cell_type": "code",
   "execution_count": 10,
   "id": "6e2557e7-dccd-4db9-830f-7f9a4862526f",
   "metadata": {
    "tags": []
   },
   "outputs": [
    {
     "data": {
      "text/plain": [
       "0.1650454950370135"
      ]
     },
     "execution_count": 10,
     "metadata": {},
     "output_type": "execute_result"
    }
   ],
   "source": [
    "#Calculate the portfolio variance\n",
    "port_var = np.dot(weights.T,np.dot(cov_matrix_annual,weights))\n",
    "port_var"
   ]
  },
  {
   "cell_type": "code",
   "execution_count": 11,
   "id": "51ec7967-6831-45b1-bd5c-a4cf58a21de4",
   "metadata": {
    "tags": []
   },
   "outputs": [
    {
     "data": {
      "text/plain": [
       "0.4062579168914909"
      ]
     },
     "execution_count": 11,
     "metadata": {},
     "output_type": "execute_result"
    }
   ],
   "source": [
    "#Calculate portfolio valatility/Std Dev\n",
    "\n",
    "port_vol= np.sqrt(port_var)\n",
    "port_vol"
   ]
  },
  {
   "cell_type": "code",
   "execution_count": 12,
   "id": "5d549472-0095-4f3d-85da-cf8316140dac",
   "metadata": {
    "tags": []
   },
   "outputs": [
    {
     "data": {
      "text/plain": [
       "0.3215083626963073"
      ]
     },
     "execution_count": 12,
     "metadata": {},
     "output_type": "execute_result"
    }
   ],
   "source": [
    "#Calculate the annual portfolio return\n",
    "\n",
    "port_ret= np.sum(returns.mean()*weights)*252\n",
    "port_ret"
   ]
  },
  {
   "cell_type": "code",
   "execution_count": 13,
   "id": "419819df-f89d-469b-a4e4-c599f5878763",
   "metadata": {
    "tags": []
   },
   "outputs": [
    {
     "name": "stdout",
     "output_type": "stream",
     "text": [
      "Expected Annual Return: 32.0%\n",
      "Annual volatility/Risk:  41.0%\n",
      "Annual Variance: 17.0%\n"
     ]
    }
   ],
   "source": [
    "#Show the expected annual return, volatility(risk), variance\n",
    "\n",
    "per_var= str(round(port_var,2)*100)+'%'\n",
    "per_vol = str(round(port_vol,2)*100)+'%'\n",
    "per_ret= str(round(port_ret,2)*100)+'%'\n",
    "\n",
    "print('Expected Annual Return: '+per_ret)\n",
    "print('Annual volatility/Risk:  '+per_vol)\n",
    "print('Annual Variance: '+per_var)"
   ]
  },
  {
   "cell_type": "code",
   "execution_count": 26,
   "id": "4db30266-16b3-4b49-8c24-324df1e32356",
   "metadata": {},
   "outputs": [],
   "source": [
    "from scipy.optimize import minimize"
   ]
  },
  {
   "cell_type": "code",
   "execution_count": 27,
   "id": "62599e3d-7527-4f59-a537-ae10908dcbf1",
   "metadata": {},
   "outputs": [
    {
     "name": "stdout",
     "output_type": "stream",
     "text": [
      "Optimized Weights for Maximum Sharpe Ratio:\n",
      "META: 0.0899\n",
      "AMZN: 0.0000\n",
      "AAPL: 0.6513\n",
      "NFLX: 0.0577\n",
      "GOOG: 0.2011\n",
      "\n",
      "Optimized Portfolio Statistics:\n",
      "Expected Return: 0.2736\n",
      "Volatility: 0.3120\n",
      "Sharpe Ratio: 0.8770\n"
     ]
    }
   ],
   "source": [
    "def objective(weights, returns, cov_matrix_annual):\n",
    "    portfolio_return = np.sum(returns.mean() * weights) * 252\n",
    "    portfolio_volatility = np.sqrt(np.dot(weights.T, np.dot(cov_matrix_annual, weights)))\n",
    "    return -portfolio_return / portfolio_volatility  # Minimize the negative of Sharpe ratio\n",
    "\n",
    "# Define the constraint that the sum of weights is 1\n",
    "constraints = ({'type': 'eq', 'fun': lambda weights: np.sum(weights) - 1})\n",
    "\n",
    "# Define the bounds for weights (each weight should be between 0 and 1)\n",
    "bounds = tuple((0, 1) for asset in range(len(assets)))\n",
    "\n",
    "# Initialize equal weights for each asset\n",
    "initial_weights = [1. / len(assets) for asset in assets]\n",
    "\n",
    "# Perform the optimization for maximum Sharpe ratio\n",
    "result = minimize(objective, initial_weights, args=(returns, cov_matrix_annual),\n",
    "                  method='SLSQP', bounds=bounds, constraints=constraints)\n",
    "\n",
    "# Extract the optimized weights\n",
    "optimized_weights = result.x\n",
    "\n",
    "# Display the optimized weights\n",
    "print(\"Optimized Weights for Maximum Sharpe Ratio:\")\n",
    "for asset, weight in zip(assets, optimized_weights):\n",
    "    print(f\"{asset}: {weight:.4f}\")\n",
    "\n",
    "# Display the portfolio statistics\n",
    "optimized_port_vol = np.sqrt(np.dot(optimized_weights.T, np.dot(cov_matrix_annual, optimized_weights)))\n",
    "optimized_port_ret = np.sum(returns.mean() * optimized_weights) * 252\n",
    "sharpe_ratio = -result.fun  # Negative because we minimized the negative of Sharpe ratio\n",
    "\n",
    "print(\"\\nOptimized Portfolio Statistics:\")\n",
    "print(f\"Expected Return: {optimized_port_ret:.4f}\")\n",
    "print(f\"Volatility: {optimized_port_vol:.4f}\")\n",
    "print(f\"Sharpe Ratio: {sharpe_ratio:.4f}\")"
   ]
  }
 ],
 "metadata": {
  "kernelspec": {
   "display_name": "Python 3 (ipykernel)",
   "language": "python",
   "name": "python3"
  },
  "language_info": {
   "codemirror_mode": {
    "name": "ipython",
    "version": 3
   },
   "file_extension": ".py",
   "mimetype": "text/x-python",
   "name": "python",
   "nbconvert_exporter": "python",
   "pygments_lexer": "ipython3",
   "version": "3.11.7"
  }
 },
 "nbformat": 4,
 "nbformat_minor": 5
}
